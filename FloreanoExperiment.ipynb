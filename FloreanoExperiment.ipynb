{
 "cells": [
  {
   "cell_type": "code",
   "execution_count": 9,
   "metadata": {},
   "outputs": [
    {
     "name": "stdout",
     "output_type": "stream",
     "text": [
      "INFO: [2017-09-14 13:58:22,538 - Configuration] Loading configuration file config.json\n",
      "INFO: [2017-09-14 13:58:22,538 - Configuration] Loading configuration file config.json\n",
      "INFO: [2017-09-14 13:58:22,538 - Configuration] Loading configuration file config.json\n",
      "INFO: [2017-09-14 13:58:22,545 - Configuration] Using user specified environment: local\n",
      "INFO: [2017-09-14 13:58:22,545 - Configuration] Using user specified environment: local\n",
      "INFO: [2017-09-14 13:58:22,545 - Configuration] Using user specified environment: local\n",
      "WARNING: [2017-09-14 13:58:22,547 - VirtualCoach] No OIDC username supplied, simulation services will fail if OIDC is enabled in this environment (local).\n",
      "WARNING: [2017-09-14 13:58:22,547 - VirtualCoach] No OIDC username supplied, simulation services will fail if OIDC is enabled in this environment (local).\n",
      "WARNING: [2017-09-14 13:58:22,547 - VirtualCoach] No OIDC username supplied, simulation services will fail if OIDC is enabled in this environment (local).\n",
      "INFO: [2017-09-14 13:58:22,582 - VirtualCoach] Ready.\n",
      "INFO: [2017-09-14 13:58:22,582 - VirtualCoach] Ready.\n",
      "INFO: [2017-09-14 13:58:22,582 - VirtualCoach] Ready.\n"
     ]
    }
   ],
   "source": [
    "import numpy as np\n",
    "import matplotlib.pyplot as plt\n",
    "import pandas\n",
    "import time\n",
    "%matplotlib inline\n",
    "import evolution\n",
    "from hbp_nrp_virtual_coach.virtual_coach import VirtualCoach\n",
    "vc = VirtualCoach(environment='local')"
   ]
  },
  {
   "cell_type": "markdown",
   "metadata": {},
   "source": [
    "## Helper Functions\n",
    "Some helper functions to calculate the fitness function, plot the robot's trajectory and the wheel speeds. These functions are specific to this experiment."
   ]
  },
  {
   "cell_type": "code",
   "execution_count": 11,
   "metadata": {
    "collapsed": true
   },
   "outputs": [],
   "source": [
    "def fitness_function(wheel_speeds):\n",
    "    left_wheel = ([float(t[1]) for t in wheel_speeds[2:]])\n",
    "    right_wheel = ([float(t[2]) for t in wheel_speeds[2:]])\n",
    "    fitness = 0\n",
    "    for i in range(len(left_wheel)):\n",
    "        if left_wheel[i] >= 0 and right_wheel[i] >= 0:\n",
    "                   fitness += (left_wheel[i] + right_wheel[i])\n",
    "    return fitness/float(2*len(left_wheel))\n",
    "\n",
    "def get_top_performers(population, fitness_log, num_performers=15):\n",
    "    \"\"\"\n",
    "    Extract the indices of the top individuals from the fitness log.\n",
    "    \n",
    "    :param fitness_log: fitness function scores for all individuals in a population\n",
    "    :param num_performers: number for top performers to look for. Default value is\n",
    "                           15, which corresponds to a truncation threshold of 25% in\n",
    "                           this experiment.\n",
    "    \"\"\"\n",
    "    top_performers = []\n",
    "    for i in range(num_performers):\n",
    "        max_index = np.argmax(fitness_log)\n",
    "        print max_index\n",
    "        top_performers.append(population[max_index])\n",
    "        fitness_log[max_index] = -1\n",
    "\n",
    "    return top_performers\n",
    "\n",
    "def plot_trajectory(trajectory):\n",
    "    plt.figure()\n",
    "    plt.gca()\n",
    "    plt.xticks([], [])\n",
    "    plt.yticks([], [])\n",
    "    plt.ylim(-3, 3)\n",
    "    plt.xlim(-3.9, 3.9)\n",
    "    x_axis = [x[0] for x in trajectory[2:]]\n",
    "    y_axis = [y[1] for y in trajectory[2:]]\n",
    "    plt.plot([float(x) for x in x_axis], [float(y) for y in y_axis])\n",
    "\n",
    "def plot_wheel_speeds(wheel_speeds):\n",
    "    left_wheel = ([float(t[1]) for t in wheel_speeds[1:]])\n",
    "    right_wheel = ([float(t[2]) for t in wheel_speeds[1:]])\n",
    "    plt.plot(range(len(left_wheel)), left_wheel, 'b')\n",
    "    plt.plot(range(len(right_wheel)), right_wheel, 'r')"
   ]
  },
  {
   "cell_type": "markdown",
   "metadata": {},
   "source": [
    "Evolutionary Algorithm helper functions"
   ]
  },
  {
   "cell_type": "code",
   "execution_count": 12,
   "metadata": {
    "collapsed": true
   },
   "outputs": [],
   "source": [
    "def one_point_crossover(parent1, parent2):\n",
    "        parent1 = parent1.reshape(290)\n",
    "        parent2 = parent2.reshape(290)\n",
    "        child1 = np.zeros(290, dtype=int)\n",
    "        child2 = np.zeros(290, dtype=int)\n",
    "        point = np.random.randint(len(parent1))\n",
    "        for i in range(point):\n",
    "            child1[i] = parent1[i]\n",
    "            child2[i] = parent2[i]\n",
    "        for i in range(point, 290):\n",
    "            child1[i] = parent2[i]\n",
    "            child2[i] = parent1[i]\n",
    "        child1 = child1.reshape(10, 29)\n",
    "        child2 = child2.reshape(10, 29)\n",
    "        return child1, child2\n",
    "    \n",
    "def bit_mutation(population):\n",
    "        for individual in population:\n",
    "            individual = individual.reshape(290)\n",
    "            for i in range(290):\n",
    "                if np.random.rand() < 0.05:\n",
    "                    individual[i] = 0 if individual[i] else 1\n",
    "        return population\n",
    "    \n",
    "def get_unique_pairs(population):\n",
    "    pairs = []\n",
    "    for i in range(len(population)):\n",
    "        for j in range(i+1, len(population)):\n",
    "            pairs.append((i, j))\n",
    "    return pairs\n",
    "            \n",
    "def evolve_new_generation(top_performers):\n",
    "    population = []\n",
    "    for i in range(len(top_performers)):\n",
    "        for j in range(4):\n",
    "            population.append(top_performers[i])\n",
    "    pairs = get_unique_pairs(population)\n",
    "    for i in pairs:\n",
    "        if np.random.rand() < 0.1:\n",
    "            parent1 = population[i[0]]\n",
    "            parent2 = population[i[1] - 1]\n",
    "            child1, child2 = one_point_crossover(parent1, parent2)\n",
    "            population[i[0]] = child1\n",
    "            population[i[1]] = child2\n",
    "\n",
    "    population = bit_mutation(population)\n",
    "    rand = np.random.randint(len(population))\n",
    "    population[rand] = top_performers[0]\n",
    "    return population"
   ]
  },
  {
   "cell_type": "markdown",
   "metadata": {},
   "source": [
    "## The Brain\n",
    "The PyNN script that creates the neural network stored as a string. A new binary genetic string that encodes the connections between neurons is passed on each run."
   ]
  },
  {
   "cell_type": "code",
   "execution_count": 13,
   "metadata": {
    "collapsed": true
   },
   "outputs": [],
   "source": [
    "brain = \"\"\"from hbp_nrp_cle.brainsim import simulator as sim\n",
    "import numpy as np\n",
    "import logging\n",
    "\n",
    "logger = logging.getLogger(__name__)\n",
    "\n",
    "def create_brain():\n",
    "\n",
    "    dna = np.array([int(x) for x in '%s'.split(',')]).reshape(10, 29)\n",
    "\n",
    "    SENSORPARAMS = {'v_rest': -60.5,\n",
    "                    'cm': 0.025,\n",
    "                    'tau_m': 4.0,\n",
    "                    'tau_refrac': 2.0,\n",
    "                    'tau_syn_E': 10.0,\n",
    "                    'tau_syn_I': 10.0,\n",
    "                    'e_rev_E': 0.0,\n",
    "                    'e_rev_I': -75.0,\n",
    "                    'v_thresh': -60.4,\n",
    "                    'v_reset': -60.5}\n",
    "\n",
    "    BRAINPARAMS = {'v_rest': -60.5,\n",
    "                    'cm': 0.025,\n",
    "                    'tau_m': 4.,\n",
    "                    'tau_refrac': 2.0,\n",
    "                    'tau_syn_E': 10,\n",
    "                    'tau_syn_I': 10,\n",
    "                    'e_rev_E': 0.0,\n",
    "                    'e_rev_I': -75.0,\n",
    "                    'v_thresh': -60.4,\n",
    "                    'v_reset': -60.5}\n",
    "\n",
    "    SYNAPSE_PARAMS = {\"weight\": 1,\n",
    "                      \"delay\": 2.0,\n",
    "                      'U': 1.0,\n",
    "                      'tau_rec': 1.0,\n",
    "                      'tau_facil': 1.0}\n",
    "\n",
    "    population = sim.Population(28, sim.IF_cond_alpha())\n",
    "    population[0:18].set(**SENSORPARAMS)\n",
    "    population[18:28].set(**BRAINPARAMS)\n",
    "\n",
    "    # Connect neurons\n",
    "    CIRCUIT = population\n",
    "\n",
    "    SYN = sim.TsodyksMarkramSynapse(**SYNAPSE_PARAMS)\n",
    "\n",
    "    row_counter=0\n",
    "    for row in dna:\n",
    "        logger.info(row)\n",
    "        n = np.array(row)\n",
    "        r_type = 'excitatory'\n",
    "        for i in range(1,19):\n",
    "            if n[i]==1:\n",
    "                logger.info(str(i-1)+' '+str(18+row_counter)+' '+r_type)\n",
    "                sim.Projection(presynaptic_population=CIRCUIT[i-1:i], postsynaptic_population=CIRCUIT[18+row_counter:19+row_counter], connector=sim.OneToOneConnector(), synapse_type=SYN, receptor_type=r_type)\n",
    "        if n[0]==0:\n",
    "            r_type = 'inhibitory'\n",
    "        for i in range(19,29):\n",
    "            if n[i]==1:\n",
    "                logger.info(str(18+row_counter)+' '+str(i-1)+' '+r_type)\n",
    "                sim.Projection(presynaptic_population=CIRCUIT[18+row_counter:19+row_counter], postsynaptic_population=CIRCUIT[i-1:i], connector=sim.OneToOneConnector(), synapse_type=SYN, receptor_type=r_type)\n",
    "        row_counter+=1\n",
    "\n",
    "    sim.initialize(population, v=population.get('v_rest'))\n",
    "\n",
    "    logger.debug(\"Circuit description: \" + str(population.describe()))\n",
    "\n",
    "    return population\n",
    "\n",
    "\n",
    "circuit = create_brain()\n",
    "\"\"\""
   ]
  },
  {
   "cell_type": "code",
   "execution_count": 14,
   "metadata": {
    "collapsed": true
   },
   "outputs": [],
   "source": [
    "display_trial_tf = \"\"\"@nrp.Robot2Neuron()\n",
    "def display_trial_number(t):\n",
    "    clientLogger.advertise('%s')\n",
    "\"\"\""
   ]
  },
  {
   "cell_type": "markdown",
   "metadata": {},
   "source": [
    "## Run Experiment"
   ]
  },
  {
   "cell_type": "code",
   "execution_count": 15,
   "metadata": {
    "collapsed": true
   },
   "outputs": [],
   "source": [
    "class FloreanoExperiment(object):\n",
    "    \n",
    "    def __init__(self, population, generations):\n",
    "        self.last_status = [None]\n",
    "        self.population = population\n",
    "        self.fitness_log = []\n",
    "        self.sim = None\n",
    "        self.started = False\n",
    "        self.generations = generations\n",
    "        self.sim_data = []\n",
    "\n",
    "    def wait_condition(self, timeout, condition):\n",
    "        start = time.time()\n",
    "        while time.time() < start + timeout:\n",
    "            time.sleep(0.25)\n",
    "            if condition(self.last_status[0]):\n",
    "                return\n",
    "        raise Exception('Condition check failed')\n",
    "        \n",
    "    def on_status(self, status):\n",
    "        self.last_status[0] = status\n",
    "                 \n",
    "    def save_simulation_data(self, trial):\n",
    "        self.sim_data[trial].append([])\n",
    "        wheel_speeds = self.sim.get_csv_data('wheel_speeds.csv')\n",
    "        left_wheel = ([float(t[1]) for t in wheel_speeds[2:]])\n",
    "        right_wheel = ([float(t[2]) for t in wheel_speeds[2:]])\n",
    "        trajectory = self.sim.get_csv_data('robot_position.csv')\n",
    "        fitness = fitness_function(wheel_speeds)\n",
    "        self.sim_data[trial][-1] = {\n",
    "            'fitness': fitness,\n",
    "            'wheel_speeds': wheel_speeds,\n",
    "            'left_wheel': left_wheel,\n",
    "            'right_wheel': right_wheel,\n",
    "            'trajectory': trajectory\n",
    "        }\n",
    "\n",
    "    def run_experiment(self):\n",
    "        try:\n",
    "            self.sim = vc.launch_experiment('floreano')\n",
    "        except:\n",
    "            time.sleep(1)\n",
    "        self.sim.register_status_callback(self.on_status)\n",
    "        for i in range(self.generations):\n",
    "            self.sim_data.append([])\n",
    "            for j in range(len(self.population)):\n",
    "                genetic_string = ','.join(str(x) for x in population[j].ravel())\n",
    "                self.sim.edit_brain(brain % genetic_string)\n",
    "                self.sim.add_transfer_function(display_trial_tf % \"Generation {}, Population {}\".format(i, j) )\n",
    "                self.sim.start()\n",
    "                # run simulation for 40 seconds\n",
    "                self.wait_condition(1000, lambda x: x['simulationTime'] == 40)\n",
    "                self.sim.pause()\n",
    "                self.save_simulation_data(i)\n",
    "                self.sim.reset('full')\n",
    "                self.wait_condition(100, lambda x: x['state'] == 'paused' and x['simulationTime'] == 0)\n",
    "            self.fitness_log = [result['fitness'] for result in floreano_experiment.sim_data[i]]\n",
    "            self.top_performers = get_top_performers(self.population, list(self.fitness_log))\n",
    "            self.population = evolve_new_generation(self.top_performers)"
   ]
  },
  {
   "cell_type": "code",
   "execution_count": 16,
   "metadata": {
    "scrolled": true
   },
   "outputs": [
    {
     "name": "stdout",
     "output_type": "stream",
     "text": [
      "INFO: [2017-09-14 13:58:39,074 - VirtualCoach] Preparing to launch floreano.\n",
      "INFO: [2017-09-14 13:58:39,074 - VirtualCoach] Preparing to launch floreano.\n",
      "INFO: [2017-09-14 13:58:39,074 - VirtualCoach] Preparing to launch floreano.\n",
      "INFO: [2017-09-14 13:58:39,079 - VirtualCoach] Retrieving list of experiments.\n",
      "INFO: [2017-09-14 13:58:39,079 - VirtualCoach] Retrieving list of experiments.\n",
      "INFO: [2017-09-14 13:58:39,079 - VirtualCoach] Retrieving list of experiments.\n"
     ]
    },
    {
     "ename": "AttributeError",
     "evalue": "'NoneType' object has no attribute 'register_status_callback'",
     "output_type": "error",
     "traceback": [
      "\u001b[0;31m---------------------------------------------------------------------------\u001b[0m",
      "\u001b[0;31mAttributeError\u001b[0m                            Traceback (most recent call last)",
      "\u001b[0;32m<ipython-input-16-9a9f5bdab109>\u001b[0m in \u001b[0;36m<module>\u001b[0;34m()\u001b[0m\n\u001b[1;32m      1\u001b[0m \u001b[0mpopulation\u001b[0m \u001b[0;34m=\u001b[0m \u001b[0mnp\u001b[0m\u001b[0;34m.\u001b[0m\u001b[0mrandom\u001b[0m\u001b[0;34m.\u001b[0m\u001b[0mrandint\u001b[0m\u001b[0;34m(\u001b[0m\u001b[0;36m2\u001b[0m\u001b[0;34m,\u001b[0m \u001b[0msize\u001b[0m\u001b[0;34m=\u001b[0m\u001b[0;34m(\u001b[0m\u001b[0;36m60\u001b[0m\u001b[0;34m,\u001b[0m \u001b[0;36m10\u001b[0m\u001b[0;34m,\u001b[0m \u001b[0;36m29\u001b[0m\u001b[0;34m)\u001b[0m\u001b[0;34m)\u001b[0m \u001b[0;31m# random population of 30 binary genetic strings\u001b[0m\u001b[0;34m\u001b[0m\u001b[0m\n\u001b[1;32m      2\u001b[0m \u001b[0mfloreano_experiment\u001b[0m \u001b[0;34m=\u001b[0m \u001b[0mFloreanoExperiment\u001b[0m\u001b[0;34m(\u001b[0m\u001b[0mpopulation\u001b[0m\u001b[0;34m,\u001b[0m \u001b[0;36m30\u001b[0m\u001b[0;34m)\u001b[0m\u001b[0;34m\u001b[0m\u001b[0m\n\u001b[0;32m----> 3\u001b[0;31m \u001b[0mfloreano_experiment\u001b[0m\u001b[0;34m.\u001b[0m\u001b[0mrun_experiment\u001b[0m\u001b[0;34m(\u001b[0m\u001b[0;34m)\u001b[0m\u001b[0;34m\u001b[0m\u001b[0m\n\u001b[0m",
      "\u001b[0;32m<ipython-input-15-3d30ad4aef3f>\u001b[0m in \u001b[0;36mrun_experiment\u001b[0;34m(self)\u001b[0m\n\u001b[1;32m     41\u001b[0m         \u001b[0;32mexcept\u001b[0m\u001b[0;34m:\u001b[0m\u001b[0;34m\u001b[0m\u001b[0m\n\u001b[1;32m     42\u001b[0m             \u001b[0mtime\u001b[0m\u001b[0;34m.\u001b[0m\u001b[0msleep\u001b[0m\u001b[0;34m(\u001b[0m\u001b[0;36m1\u001b[0m\u001b[0;34m)\u001b[0m\u001b[0;34m\u001b[0m\u001b[0m\n\u001b[0;32m---> 43\u001b[0;31m         \u001b[0mself\u001b[0m\u001b[0;34m.\u001b[0m\u001b[0msim\u001b[0m\u001b[0;34m.\u001b[0m\u001b[0mregister_status_callback\u001b[0m\u001b[0;34m(\u001b[0m\u001b[0mself\u001b[0m\u001b[0;34m.\u001b[0m\u001b[0mon_status\u001b[0m\u001b[0;34m)\u001b[0m\u001b[0;34m\u001b[0m\u001b[0m\n\u001b[0m\u001b[1;32m     44\u001b[0m         \u001b[0;32mfor\u001b[0m \u001b[0mi\u001b[0m \u001b[0;32min\u001b[0m \u001b[0mrange\u001b[0m\u001b[0;34m(\u001b[0m\u001b[0mself\u001b[0m\u001b[0;34m.\u001b[0m\u001b[0mgenerations\u001b[0m\u001b[0;34m)\u001b[0m\u001b[0;34m:\u001b[0m\u001b[0;34m\u001b[0m\u001b[0m\n\u001b[1;32m     45\u001b[0m             \u001b[0mself\u001b[0m\u001b[0;34m.\u001b[0m\u001b[0msim_data\u001b[0m\u001b[0;34m.\u001b[0m\u001b[0mappend\u001b[0m\u001b[0;34m(\u001b[0m\u001b[0;34m[\u001b[0m\u001b[0;34m]\u001b[0m\u001b[0;34m)\u001b[0m\u001b[0;34m\u001b[0m\u001b[0m\n",
      "\u001b[0;31mAttributeError\u001b[0m: 'NoneType' object has no attribute 'register_status_callback'"
     ]
    }
   ],
   "source": [
    "population = np.random.randint(2, size=(60, 10, 29)) # random population of 30 binary genetic strings\n",
    "floreano_experiment = FloreanoExperiment(population, 30)\n",
    "floreano_experiment.run_experiment()"
   ]
  },
  {
   "cell_type": "code",
   "execution_count": null,
   "metadata": {
    "collapsed": true,
    "scrolled": true
   },
   "outputs": [],
   "source": [
    "fig, axes = plt.subplots(len(floreano_experiment.sim_data), 2)\n",
    "for i in range(len(floreano_experiment.sim_data)):\n",
    "    axes[i, 0].set_ylim(-3, 3)\n",
    "    axes[i, 0].set_xlim(-3.9, 3.9)\n",
    "    axes[i, 0].set_xticks([], [])\n",
    "    axes[i, 0].set_yticks([], [])\n",
    "    x_axis = [x[0] for x in floreano_experiment.sim_data[i]['trajectory'][2:]]\n",
    "    y_axis = [y[1] for y in floreano_experiment.sim_data[i]['trajectory'][2:]]\n",
    "    axes[i, 0].plot([float(x) for x in x_axis], [float(y) for y in y_axis])\n",
    "\n",
    "    left_wheel = ([float(t[1]) for t in floreano_experiment.sim_data[i]['wheel_speeds'][2:]])\n",
    "    right_wheel = ([float(t[2]) for t in floreano_experiment.sim_data[i]['wheel_speeds'][2:]])\n",
    "    axes[i, 1].plot(range(len(left_wheel)), left_wheel, 'b', label='Left Wheel')\n",
    "    axes[i, 1].plot(range(len(right_wheel)), right_wheel, 'r', label='Right Wheel')\n",
    "    axes[i, 1].set_ylim(-5, 5)\n",
    "    axes[i, 1].set_xlabel('Time [ms]')\n",
    "    axes[i, 1].set_ylabel('Speed m/s')\n",
    "\n",
    "axes[0, 0].set_title('Robot Trajectory')\n",
    "axes[0, 1].set_title('Wheel Speeds')\n",
    "fig.set_figheight(25)\n",
    "fig.set_figwidth(10)"
   ]
  }
 ],
 "metadata": {
  "kernelspec": {
   "display_name": "Python 2",
   "language": "python",
   "name": "python2"
  },
  "language_info": {
   "codemirror_mode": {
    "name": "ipython",
    "version": 2
   },
   "file_extension": ".py",
   "mimetype": "text/x-python",
   "name": "python",
   "nbconvert_exporter": "python",
   "pygments_lexer": "ipython2",
   "version": "2.7.12"
  }
 },
 "nbformat": 4,
 "nbformat_minor": 2
}
