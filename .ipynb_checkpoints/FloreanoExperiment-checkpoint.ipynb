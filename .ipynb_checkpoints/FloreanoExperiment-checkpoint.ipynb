{
 "cells": [
  {
   "cell_type": "code",
   "execution_count": 1,
   "metadata": {},
   "outputs": [
    {
     "name": "stderr",
     "output_type": "stream",
     "text": [
      "INFO: [2017-11-06 09:50:42,278 - rospy.topics] topicmanager initialized\n"
     ]
    },
    {
     "name": "stdout",
     "output_type": "stream",
     "text": [
      "INFO: [2017-11-06 09:50:42,429 - Configuration] Loading configuration file config.json\n",
      "INFO: [2017-11-06 09:50:42,431 - Configuration] Using user specified environment: local\n",
      "WARNING: [2017-11-06 09:50:42,433 - VirtualCoach] No OIDC username supplied, simulation services will fail if OIDC is enabled in this environment (local).\n",
      "INFO: [2017-11-06 09:50:42,483 - VirtualCoach] Ready.\n"
     ]
    }
   ],
   "source": [
    "import numpy as np\n",
    "import matplotlib.pyplot as plt\n",
    "import pandas\n",
    "import time\n",
    "%matplotlib inline\n",
    "#import evolution\n",
    "from hbp_nrp_virtual_coach.virtual_coach import VirtualCoach\n",
    "vc = VirtualCoach(environment='local')"
   ]
  },
  {
   "cell_type": "markdown",
   "metadata": {},
   "source": [
    "## Helper Functions\n",
    "Some helper functions to calculate the fitness function, plot the robot's trajectory and the wheel speeds. These functions are specific to this experiment."
   ]
  },
  {
   "cell_type": "code",
   "execution_count": 2,
   "metadata": {
    "collapsed": true
   },
   "outputs": [],
   "source": [
    "def fitness_function(wheel_speeds):\n",
    "    left_wheel = ([float(t[1]) for t in wheel_speeds[2:]])\n",
    "    right_wheel = ([float(t[2]) for t in wheel_speeds[2:]])\n",
    "    fitness = 0\n",
    "    for i in range(len(left_wheel)):\n",
    "        if left_wheel[i] >= 0 and right_wheel[i] >= 0:\n",
    "                   fitness += (left_wheel[i] + right_wheel[i])\n",
    "    return fitness/float(2*len(left_wheel))\n",
    "\n",
    "def get_top_performers(population, fitness_log, num_performers=15):\n",
    "    \"\"\"\n",
    "    Extract the indices of the top individuals from the fitness log.\n",
    "    \n",
    "    :param fitness_log: fitness function scores for all individuals in a population\n",
    "    :param num_performers: number for top performers to look for. Default value is\n",
    "                           15, which corresponds to a truncation threshold of 25% in\n",
    "                           this experiment.\n",
    "    \"\"\"\n",
    "    top_performers = []\n",
    "    for i in range(num_performers):\n",
    "        max_index = np.argmax(fitness_log)\n",
    "        print max_index\n",
    "        top_performers.append(population[max_index])\n",
    "        fitness_log[max_index] = -1\n",
    "\n",
    "    return top_performers\n",
    "\n",
    "def plot_trajectory(trajectory):\n",
    "    plt.figure()\n",
    "    plt.gca()\n",
    "    plt.xticks([], [])\n",
    "    plt.yticks([], [])\n",
    "    plt.ylim(-3, 3)\n",
    "    plt.xlim(-3.9, 3.9)\n",
    "    x_axis = [x[0] for x in trajectory[2:]]\n",
    "    y_axis = [y[1] for y in trajectory[2:]]\n",
    "    plt.plot([float(x) for x in x_axis], [float(y) for y in y_axis])\n",
    "\n",
    "def plot_wheel_speeds(wheel_speeds):\n",
    "    left_wheel = ([float(t[1]) for t in wheel_speeds[1:]])\n",
    "    right_wheel = ([float(t[2]) for t in wheel_speeds[1:]])\n",
    "    plt.plot(range(len(left_wheel)), left_wheel, 'b')\n",
    "    plt.plot(range(len(right_wheel)), right_wheel, 'r')"
   ]
  },
  {
   "cell_type": "markdown",
   "metadata": {},
   "source": [
    "Evolutionary Algorithm helper functions"
   ]
  },
  {
   "cell_type": "code",
   "execution_count": 3,
   "metadata": {
    "collapsed": true
   },
   "outputs": [],
   "source": [
    "def one_point_crossover(parent1, parent2):\n",
    "        parent1 = parent1.reshape(290)\n",
    "        parent2 = parent2.reshape(290)\n",
    "        child1 = np.zeros(290, dtype=int)\n",
    "        child2 = np.zeros(290, dtype=int)\n",
    "        point = np.random.randint(len(parent1))\n",
    "        for i in range(point):\n",
    "            child1[i] = parent1[i]\n",
    "            child2[i] = parent2[i]\n",
    "        for i in range(point, 290):\n",
    "            child1[i] = parent2[i]\n",
    "            child2[i] = parent1[i]\n",
    "        child1 = child1.reshape(10, 29)\n",
    "        child2 = child2.reshape(10, 29)\n",
    "        return child1, child2\n",
    "    \n",
    "def bit_mutation(population):\n",
    "        for individual in population:\n",
    "            individual = individual.reshape(290)\n",
    "            for i in range(290):\n",
    "                if np.random.rand() < 0.05:\n",
    "                    individual[i] = 0 if individual[i] else 1\n",
    "        return population\n",
    "    \n",
    "def get_unique_pairs(population):\n",
    "    pairs = []\n",
    "    for i in range(len(population)):\n",
    "        for j in range(i+1, len(population)):\n",
    "            pairs.append((i, j))\n",
    "    return pairs\n",
    "            \n",
    "def evolve_new_generation(top_performers):\n",
    "    population = []\n",
    "    for i in range(len(top_performers)):\n",
    "        for j in range(4):\n",
    "            population.append(top_performers[i])\n",
    "    pairs = get_unique_pairs(population)\n",
    "    for i in pairs:\n",
    "        if np.random.rand() < 0.1:\n",
    "            parent1 = population[i[0]]\n",
    "            parent2 = population[i[1] - 1]\n",
    "            child1, child2 = one_point_crossover(parent1, parent2)\n",
    "            population[i[0]] = child1\n",
    "            population[i[1]] = child2\n",
    "\n",
    "    population = bit_mutation(population)\n",
    "    rand = np.random.randint(len(population))\n",
    "    population[rand] = top_performers[0]\n",
    "    return population"
   ]
  },
  {
   "cell_type": "markdown",
   "metadata": {},
   "source": [
    "## The Brain\n",
    "The PyNN script that creates the neural network stored as a string. A new binary genetic string that encodes the connections between neurons is passed on each run."
   ]
  },
  {
   "cell_type": "code",
   "execution_count": 4,
   "metadata": {
    "collapsed": true
   },
   "outputs": [],
   "source": [
    "brain = \"\"\"from hbp_nrp_cle.brainsim import simulator as sim\n",
    "import numpy as np\n",
    "import logging\n",
    "\n",
    "logger = logging.getLogger(__name__)\n",
    "\n",
    "l = np.array([int(x) for x in '%s'.split(',')]).reshape(10, 29)\n",
    "\n",
    "receptors = []\n",
    "for r in range(1,19):\n",
    "    receptors.append(np.nonzero(l[:,r])[0])\n",
    "\n",
    "def create_brain():\n",
    "\n",
    "    dna = l\n",
    "\n",
    "    NEURONPARAMS = {'v_rest': -60.5,\n",
    "                    'tau_m': 4.0,\n",
    "                    'tau_refrac': 2.0,\n",
    "                    'tau_syn_E': 10.0,\n",
    "                    'tau_syn_I': 10.0,\n",
    "                    'e_rev_E': 0.0,\n",
    "                    'e_rev_I': -75.0,\n",
    "                    'v_thresh': -60.4,\n",
    "                    'v_reset': -60.5}\n",
    "\n",
    "    SYNAPSE_PARAMS = {\"weight\": 1.0,\n",
    "                      \"delay\": 2.0}\n",
    "\n",
    "    population = sim.Population(10, sim.IF_cond_alpha())\n",
    "    population[0:10].set(**NEURONPARAMS)\n",
    "\n",
    "\n",
    "    # Connect neurons\n",
    "    CIRCUIT = population\n",
    "\n",
    "    SYN = sim.StaticSynapse(**SYNAPSE_PARAMS)\n",
    "\n",
    "    row_counter=0\n",
    "    for row in dna:\n",
    "    \tlogger.info(row)\n",
    "        n = np.array(row)\n",
    "        r_type = 'excitatory'\n",
    "        if n[0]==0:\n",
    "            r_type = 'inhibitory'\n",
    "        for i in range(19,29):\n",
    "            if n[i]==1:\n",
    "            \tlogger.info(str(18+row_counter)+' '+str(i-1)+' '+r_type)\n",
    "\n",
    "                sim.Projection(presynaptic_population=CIRCUIT[row_counter:1+row_counter], postsynaptic_population=CIRCUIT[i-19:i-18], connector=sim.OneToOneConnector(), synapse_type=SYN, receptor_type=r_type)\n",
    "        \n",
    "        row_counter+=1\n",
    "\n",
    "    sim.initialize(population, v=population.get('v_rest'))\n",
    "\n",
    "    logger.debug(\"Circuit description: \" + str(population.describe()))\n",
    "\n",
    "    return population\n",
    "\n",
    "\n",
    "circuit = create_brain()\n",
    "\n",
    "\"\"\""
   ]
  },
  {
   "cell_type": "code",
   "execution_count": 5,
   "metadata": {
    "collapsed": true
   },
   "outputs": [],
   "source": [
    "display_trial_tf = \"\"\"@nrp.Robot2Neuron()\n",
    "def display_trial_number(t):\n",
    "    clientLogger.advertise('%s')\n",
    "\"\"\""
   ]
  },
  {
   "cell_type": "markdown",
   "metadata": {},
   "source": [
    "## Run Experiment"
   ]
  },
  {
   "cell_type": "code",
   "execution_count": 7,
   "metadata": {
    "collapsed": true
   },
   "outputs": [],
   "source": [
    "class FloreanoExperiment(object):\n",
    "    \n",
    "    def __init__(self, population, generations):\n",
    "        self.last_status = [None]\n",
    "        self.population = population\n",
    "        self.fitness_log = []\n",
    "        self.sim = None\n",
    "        self.started = False\n",
    "        self.generations = generations\n",
    "        self.sim_data = []\n",
    "\n",
    "    def wait_condition(self, timeout, condition):\n",
    "        start = time.time()\n",
    "        while time.time() < start + timeout:\n",
    "            time.sleep(0.25)\n",
    "            if condition(self.last_status[0]):\n",
    "                return\n",
    "        raise Exception('Condition check failed')\n",
    "        \n",
    "    def on_status(self, status):\n",
    "        self.last_status[0] = status\n",
    "                 \n",
    "    def save_simulation_data(self, trial):\n",
    "        self.sim_data[trial].append([])\n",
    "        wheel_speeds = self.sim.get_csv_data('wheel_speeds.csv')\n",
    "        left_wheel = ([float(t[1]) for t in wheel_speeds[2:]])\n",
    "        right_wheel = ([float(t[2]) for t in wheel_speeds[2:]])\n",
    "        trajectory = self.sim.get_csv_data('robot_position.csv')\n",
    "        fitness = fitness_function(wheel_speeds)\n",
    "        self.sim_data[trial][-1] = {\n",
    "            'fitness': fitness,\n",
    "            'wheel_speeds': wheel_speeds,\n",
    "            'left_wheel': left_wheel,\n",
    "            'right_wheel': right_wheel,\n",
    "            'trajectory': trajectory\n",
    "        }\n",
    "\n",
    "    def run_experiment(self):\n",
    "        try:\n",
    "            self.sim = vc.launch_experiment('floreano')\n",
    "        except:\n",
    "            time.sleep(1)\n",
    "        self.sim.register_status_callback(self.on_status)\n",
    "        for i in range(self.generations):\n",
    "            self.sim_data.append([])\n",
    "            for j in range(len(self.population)):\n",
    "                genetic_string = ','.join(str(x) for x in population[j].ravel())\n",
    "                self.sim.edit_brain(brain % genetic_string)\n",
    "                self.sim.add_transfer_function(display_trial_tf % \"Generation {}, Population {}\".format(i, j) )\n",
    "                self.sim.start()\n",
    "                # run simulation for 40 seconds\n",
    "                self.wait_condition(1000, lambda x: x['simulationTime'] == 40)\n",
    "                self.sim.pause()\n",
    "                self.save_simulation_data(i)\n",
    "                self.sim.reset('full')\n",
    "                self.wait_condition(100, lambda x: x['state'] == 'paused' and x['simulationTime'] == 0)\n",
    "            self.fitness_log = [result['fitness'] for result in floreano_experiment.sim_data[i]]\n",
    "            self.top_performers = get_top_performers(self.population, list(self.fitness_log))\n",
    "            self.population = evolve_new_generation(self.top_performers)"
   ]
  },
  {
   "cell_type": "code",
   "execution_count": 8,
   "metadata": {
    "scrolled": true
   },
   "outputs": [
    {
     "name": "stdout",
     "output_type": "stream",
     "text": [
      "INFO: [2017-11-06 09:50:47,464 - VirtualCoach] Preparing to launch floreano.\n",
      "INFO: [2017-11-06 09:50:47,466 - VirtualCoach] Retrieving list of experiments.\n",
      "INFO: [2017-11-06 09:50:47,479 - Simulation] Attempting to launch floreano on localhost.\n",
      "INFO: [2017-11-06 09:50:56,989 - Simulation (floreano - localhost #0)] Simulation Successfully Created.\n",
      "INFO: [2017-11-06 09:50:57,013 - Simulation (floreano - localhost #0)] Ready.\n",
      "INFO: [2017-11-06 09:50:57,014 - Simulation (floreano - localhost #0)] Status callback registered.\n",
      "INFO: [2017-11-06 09:50:57,016 - Simulation (floreano - localhost #0)] Attempting to retrieve brain\n",
      "INFO: [2017-11-06 09:50:57,023 - Simulation (floreano - localhost #0)] Attempting to set Brain\n",
      "INFO: [2017-11-06 09:50:57,023 - Simulation (floreano - localhost #0)] Attempting to retrieve brain\n",
      "INFO: [2017-11-06 09:50:57,030 - Simulation (floreano - localhost #0)] Attempting to retrieve brain\n",
      "INFO: [2017-11-06 09:50:57,047 - Simulation (floreano - localhost #0)] Attempting to retrieve brain\n",
      "INFO: [2017-11-06 09:50:57,052 - Simulation (floreano - localhost #0)] Attempting to retrieve brain\n",
      "INFO: [2017-11-06 09:50:57,573 - Simulation (floreano - localhost #0)] Brain successfully updated.\n",
      "INFO: [2017-11-06 09:50:57,573 - Simulation (floreano - localhost #0)] Attempting to retrieve transfer-function\n",
      "ERROR: [2017-11-06 09:50:57,572 - rosout] bad callback: <bound method Simulation.__on_status of <hbp_nrp_virtual_coach.simulation.Simulation object at 0x7f5f0b8aac90>>\n",
      "Traceback (most recent call last):\n",
      "  File \"/opt/ros/kinetic/lib/python2.7/dist-packages/rospy/topics.py\", line 750, in _invoke_callback\n",
      "    cb(msg)\n",
      "  File \"/home/hedgehog/Documents/NRP/VirtualCoach/hbp_nrp_virtual_coach/hbp_nrp_virtual_coach/simulation.py\", line 281, in __on_status\n",
      "    if status['state'] in ['stopped', 'halted']:\n",
      "KeyError: 'state'\n",
      "\n",
      "INFO: [2017-11-06 09:50:57,578 - Simulation (floreano - localhost #0)] Attempting to set Transfer Function \n",
      "INFO: [2017-11-06 09:50:57,591 - Simulation (floreano - localhost #0)] Transfer Function '' successfully updated\n",
      "INFO: [2017-11-06 09:50:57,592 - Simulation (floreano - localhost #0)] Attempting to transition to state: started\n",
      "INFO: [2017-11-06 09:50:57,595 - Simulation (floreano - localhost #0)] Simulation state: started\n"
     ]
    },
    {
     "name": "stderr",
     "output_type": "stream",
     "text": [
      "[ERROR] [1509990657.572477, 0.001000]: bad callback: <bound method Simulation.__on_status of <hbp_nrp_virtual_coach.simulation.Simulation object at 0x7f5f0b8aac90>>\n",
      "Traceback (most recent call last):\n",
      "  File \"/opt/ros/kinetic/lib/python2.7/dist-packages/rospy/topics.py\", line 750, in _invoke_callback\n",
      "    cb(msg)\n",
      "  File \"/home/hedgehog/Documents/NRP/VirtualCoach/hbp_nrp_virtual_coach/hbp_nrp_virtual_coach/simulation.py\", line 281, in __on_status\n",
      "    if status['state'] in ['stopped', 'halted']:\n",
      "KeyError: 'state'\n",
      "\n"
     ]
    },
    {
     "ename": "KeyError",
     "evalue": "'simulationTime'",
     "output_type": "error",
     "traceback": [
      "\u001b[0;31m---------------------------------------------------------------------------\u001b[0m",
      "\u001b[0;31mKeyError\u001b[0m                                  Traceback (most recent call last)",
      "\u001b[0;32m<ipython-input-8-665dbbf16511>\u001b[0m in \u001b[0;36m<module>\u001b[0;34m()\u001b[0m\n\u001b[1;32m      1\u001b[0m \u001b[0mpopulation\u001b[0m \u001b[0;34m=\u001b[0m \u001b[0mnp\u001b[0m\u001b[0;34m.\u001b[0m\u001b[0mrandom\u001b[0m\u001b[0;34m.\u001b[0m\u001b[0mrandint\u001b[0m\u001b[0;34m(\u001b[0m\u001b[0;36m2\u001b[0m\u001b[0;34m,\u001b[0m \u001b[0msize\u001b[0m\u001b[0;34m=\u001b[0m\u001b[0;34m(\u001b[0m\u001b[0;36m60\u001b[0m\u001b[0;34m,\u001b[0m \u001b[0;36m10\u001b[0m\u001b[0;34m,\u001b[0m \u001b[0;36m29\u001b[0m\u001b[0;34m)\u001b[0m\u001b[0;34m)\u001b[0m \u001b[0;31m# random population of 30 binary genetic strings\u001b[0m\u001b[0;34m\u001b[0m\u001b[0m\n\u001b[1;32m      2\u001b[0m \u001b[0mfloreano_experiment\u001b[0m \u001b[0;34m=\u001b[0m \u001b[0mFloreanoExperiment\u001b[0m\u001b[0;34m(\u001b[0m\u001b[0mpopulation\u001b[0m\u001b[0;34m,\u001b[0m \u001b[0;36m16\u001b[0m\u001b[0;34m)\u001b[0m\u001b[0;34m\u001b[0m\u001b[0m\n\u001b[0;32m----> 3\u001b[0;31m \u001b[0mfloreano_experiment\u001b[0m\u001b[0;34m.\u001b[0m\u001b[0mrun_experiment\u001b[0m\u001b[0;34m(\u001b[0m\u001b[0;34m)\u001b[0m\u001b[0;34m\u001b[0m\u001b[0m\n\u001b[0m",
      "\u001b[0;32m<ipython-input-7-3d30ad4aef3f>\u001b[0m in \u001b[0;36mrun_experiment\u001b[0;34m(self)\u001b[0m\n\u001b[1;32m     50\u001b[0m                 \u001b[0mself\u001b[0m\u001b[0;34m.\u001b[0m\u001b[0msim\u001b[0m\u001b[0;34m.\u001b[0m\u001b[0mstart\u001b[0m\u001b[0;34m(\u001b[0m\u001b[0;34m)\u001b[0m\u001b[0;34m\u001b[0m\u001b[0m\n\u001b[1;32m     51\u001b[0m                 \u001b[0;31m# run simulation for 40 seconds\u001b[0m\u001b[0;34m\u001b[0m\u001b[0;34m\u001b[0m\u001b[0m\n\u001b[0;32m---> 52\u001b[0;31m                 \u001b[0mself\u001b[0m\u001b[0;34m.\u001b[0m\u001b[0mwait_condition\u001b[0m\u001b[0;34m(\u001b[0m\u001b[0;36m1000\u001b[0m\u001b[0;34m,\u001b[0m \u001b[0;32mlambda\u001b[0m \u001b[0mx\u001b[0m\u001b[0;34m:\u001b[0m \u001b[0mx\u001b[0m\u001b[0;34m[\u001b[0m\u001b[0;34m'simulationTime'\u001b[0m\u001b[0;34m]\u001b[0m \u001b[0;34m==\u001b[0m \u001b[0;36m40\u001b[0m\u001b[0;34m)\u001b[0m\u001b[0;34m\u001b[0m\u001b[0m\n\u001b[0m\u001b[1;32m     53\u001b[0m                 \u001b[0mself\u001b[0m\u001b[0;34m.\u001b[0m\u001b[0msim\u001b[0m\u001b[0;34m.\u001b[0m\u001b[0mpause\u001b[0m\u001b[0;34m(\u001b[0m\u001b[0;34m)\u001b[0m\u001b[0;34m\u001b[0m\u001b[0m\n\u001b[1;32m     54\u001b[0m                 \u001b[0mself\u001b[0m\u001b[0;34m.\u001b[0m\u001b[0msave_simulation_data\u001b[0m\u001b[0;34m(\u001b[0m\u001b[0mi\u001b[0m\u001b[0;34m)\u001b[0m\u001b[0;34m\u001b[0m\u001b[0m\n",
      "\u001b[0;32m<ipython-input-7-3d30ad4aef3f>\u001b[0m in \u001b[0;36mwait_condition\u001b[0;34m(self, timeout, condition)\u001b[0m\n\u001b[1;32m     14\u001b[0m         \u001b[0;32mwhile\u001b[0m \u001b[0mtime\u001b[0m\u001b[0;34m.\u001b[0m\u001b[0mtime\u001b[0m\u001b[0;34m(\u001b[0m\u001b[0;34m)\u001b[0m \u001b[0;34m<\u001b[0m \u001b[0mstart\u001b[0m \u001b[0;34m+\u001b[0m \u001b[0mtimeout\u001b[0m\u001b[0;34m:\u001b[0m\u001b[0;34m\u001b[0m\u001b[0m\n\u001b[1;32m     15\u001b[0m             \u001b[0mtime\u001b[0m\u001b[0;34m.\u001b[0m\u001b[0msleep\u001b[0m\u001b[0;34m(\u001b[0m\u001b[0;36m0.25\u001b[0m\u001b[0;34m)\u001b[0m\u001b[0;34m\u001b[0m\u001b[0m\n\u001b[0;32m---> 16\u001b[0;31m             \u001b[0;32mif\u001b[0m \u001b[0mcondition\u001b[0m\u001b[0;34m(\u001b[0m\u001b[0mself\u001b[0m\u001b[0;34m.\u001b[0m\u001b[0mlast_status\u001b[0m\u001b[0;34m[\u001b[0m\u001b[0;36m0\u001b[0m\u001b[0;34m]\u001b[0m\u001b[0;34m)\u001b[0m\u001b[0;34m:\u001b[0m\u001b[0;34m\u001b[0m\u001b[0m\n\u001b[0m\u001b[1;32m     17\u001b[0m                 \u001b[0;32mreturn\u001b[0m\u001b[0;34m\u001b[0m\u001b[0m\n\u001b[1;32m     18\u001b[0m         \u001b[0;32mraise\u001b[0m \u001b[0mException\u001b[0m\u001b[0;34m(\u001b[0m\u001b[0;34m'Condition check failed'\u001b[0m\u001b[0;34m)\u001b[0m\u001b[0;34m\u001b[0m\u001b[0m\n",
      "\u001b[0;32m<ipython-input-7-3d30ad4aef3f>\u001b[0m in \u001b[0;36m<lambda>\u001b[0;34m(x)\u001b[0m\n\u001b[1;32m     50\u001b[0m                 \u001b[0mself\u001b[0m\u001b[0;34m.\u001b[0m\u001b[0msim\u001b[0m\u001b[0;34m.\u001b[0m\u001b[0mstart\u001b[0m\u001b[0;34m(\u001b[0m\u001b[0;34m)\u001b[0m\u001b[0;34m\u001b[0m\u001b[0m\n\u001b[1;32m     51\u001b[0m                 \u001b[0;31m# run simulation for 40 seconds\u001b[0m\u001b[0;34m\u001b[0m\u001b[0;34m\u001b[0m\u001b[0m\n\u001b[0;32m---> 52\u001b[0;31m                 \u001b[0mself\u001b[0m\u001b[0;34m.\u001b[0m\u001b[0mwait_condition\u001b[0m\u001b[0;34m(\u001b[0m\u001b[0;36m1000\u001b[0m\u001b[0;34m,\u001b[0m \u001b[0;32mlambda\u001b[0m \u001b[0mx\u001b[0m\u001b[0;34m:\u001b[0m \u001b[0mx\u001b[0m\u001b[0;34m[\u001b[0m\u001b[0;34m'simulationTime'\u001b[0m\u001b[0;34m]\u001b[0m \u001b[0;34m==\u001b[0m \u001b[0;36m40\u001b[0m\u001b[0;34m)\u001b[0m\u001b[0;34m\u001b[0m\u001b[0m\n\u001b[0m\u001b[1;32m     53\u001b[0m                 \u001b[0mself\u001b[0m\u001b[0;34m.\u001b[0m\u001b[0msim\u001b[0m\u001b[0;34m.\u001b[0m\u001b[0mpause\u001b[0m\u001b[0;34m(\u001b[0m\u001b[0;34m)\u001b[0m\u001b[0;34m\u001b[0m\u001b[0m\n\u001b[1;32m     54\u001b[0m                 \u001b[0mself\u001b[0m\u001b[0;34m.\u001b[0m\u001b[0msave_simulation_data\u001b[0m\u001b[0;34m(\u001b[0m\u001b[0mi\u001b[0m\u001b[0;34m)\u001b[0m\u001b[0;34m\u001b[0m\u001b[0m\n",
      "\u001b[0;31mKeyError\u001b[0m: 'simulationTime'"
     ]
    }
   ],
   "source": [
    "population = np.random.randint(2, size=(60, 10, 29)) # random population of 30 binary genetic strings\n",
    "floreano_experiment = FloreanoExperiment(population, 16)\n",
    "floreano_experiment.run_experiment()"
   ]
  },
  {
   "cell_type": "code",
   "execution_count": null,
   "metadata": {
    "collapsed": true,
    "scrolled": true
   },
   "outputs": [],
   "source": [
    "fig, axes = plt.subplots(len(floreano_experiment.sim_data), 2)\n",
    "for i in range(len(floreano_experiment.sim_data)):\n",
    "    axes[i, 0].set_ylim(-3, 3)\n",
    "    axes[i, 0].set_xlim(-3.9, 3.9)\n",
    "    axes[i, 0].set_xticks([], [])\n",
    "    axes[i, 0].set_yticks([], [])\n",
    "    x_axis = [x[0] for x in floreano_experiment.sim_data[i]['trajectory'][2:]]\n",
    "    y_axis = [y[1] for y in floreano_experiment.sim_data[i]['trajectory'][2:]]\n",
    "    axes[i, 0].plot([float(x) for x in x_axis], [float(y) for y in y_axis])\n",
    "\n",
    "    left_wheel = ([float(t[1]) for t in floreano_experiment.sim_data[i]['wheel_speeds'][2:]])\n",
    "    right_wheel = ([float(t[2]) for t in floreano_experiment.sim_data[i]['wheel_speeds'][2:]])\n",
    "    axes[i, 1].plot(range(len(left_wheel)), left_wheel, 'b', label='Left Wheel')\n",
    "    axes[i, 1].plot(range(len(right_wheel)), right_wheel, 'r', label='Right Wheel')\n",
    "    axes[i, 1].set_ylim(-5, 5)\n",
    "    axes[i, 1].set_xlabel('Time [ms]')\n",
    "    axes[i, 1].set_ylabel('Speed m/s')\n",
    "\n",
    "axes[0, 0].set_title('Robot Trajectory')\n",
    "axes[0, 1].set_title('Wheel Speeds')\n",
    "fig.set_figheight(25)\n",
    "fig.set_figwidth(10)\n"
   ]
  }
 ],
 "metadata": {
  "kernelspec": {
   "display_name": "Python 2",
   "language": "python",
   "name": "python2"
  },
  "language_info": {
   "codemirror_mode": {
    "name": "ipython",
    "version": 2
   },
   "file_extension": ".py",
   "mimetype": "text/x-python",
   "name": "python",
   "nbconvert_exporter": "python",
   "pygments_lexer": "ipython2",
   "version": "2.7.12"
  }
 },
 "nbformat": 4,
 "nbformat_minor": 2
}
